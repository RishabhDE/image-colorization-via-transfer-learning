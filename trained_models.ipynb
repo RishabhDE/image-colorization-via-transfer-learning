{
 "cells": [
  {
   "cell_type": "code",
   "execution_count": 7,
   "id": "f38393b2",
   "metadata": {},
   "outputs": [],
   "source": [
    "import tensorflow as tf\n",
    "import os\n",
    "import glob\n",
    "import cv2\n",
    "import numpy as np\n",
    "import matplotlib.pyplot as plt\n",
    "from Data_processing_functions import *\n"
   ]
  },
  {
   "cell_type": "code",
   "execution_count": 8,
   "id": "c3856f7a",
   "metadata": {},
   "outputs": [],
   "source": [
    "# Define Data Directory\n",
    "dir_path = 'data'\n",
    "color_dir = os.path.join(dir_path, 'train_color')\n",
    "black_dir = os.path.join(dir_path, 'train_black')\n",
    "\n",
    "# List all images\n",
    "color_images_paths = glob.glob(os.path.join(color_dir, '*.jpg'))\n",
    "black_images_paths = glob.glob(os.path.join(black_dir, '*.jpg'))\n",
    "\n",
    "# Create the original dataset\n",
    "dataset = create_dataset(black_images_paths, color_images_paths, target_size=(256, 256))\n",
    "\n",
    "# Create the dataset with combined grayscale and edge-detected images\n",
    "dataset_with_edges = create_dataset_with_edges(dataset)\n",
    "\n",
    "# Create the dataset with combined grayscale and segmented images\n",
    "dataset_with_segment = create_dataset_with_segment(dataset)"
   ]
  },
  {
   "cell_type": "code",
   "execution_count": 9,
   "id": "d1cf4ccd",
   "metadata": {},
   "outputs": [
    {
     "name": "stdout",
     "output_type": "stream",
     "text": [
      "Checking original dataset:\n",
      "Original Batch Size: 32\n",
      "Original Grayscale Images Shape: (32, 256, 256, 1)\n",
      "Original LAB Images Shape: (32, 256, 256, 3)\n",
      "\n",
      "Checking dataset with edges:\n",
      "With Edges Batch Size: 32\n",
      "Combined Images Shape: (32, 256, 256, 2)\n",
      "LAB Images Shape: (32, 256, 256, 3)\n",
      "\n",
      "Checking dataset with segments:\n",
      "With Segments Batch Size: 32\n",
      "Combined Images Shape: (32, 256, 256, 2)\n",
      "LAB Images Shape: (32, 256, 256, 3)\n"
     ]
    }
   ],
   "source": [
    "# Check the datasets\n",
    "print(\"Checking original dataset:\")\n",
    "for gray_images, lab_images in dataset.take(1):\n",
    "    print(\"Original Batch Size:\", gray_images.shape[0])\n",
    "    print(\"Original Grayscale Images Shape:\", gray_images.shape)\n",
    "    print(\"Original LAB Images Shape:\", lab_images.shape)\n",
    "\n",
    "print(\"\\nChecking dataset with edges:\")\n",
    "for combined_images, lab_images in dataset_with_edges.take(1):\n",
    "    print(\"With Edges Batch Size:\", combined_images.shape[0])\n",
    "    print(\"Combined Images Shape:\", combined_images.shape)\n",
    "    print(\"LAB Images Shape:\", lab_images.shape)\n",
    "\n",
    "print(\"\\nChecking dataset with segments:\")\n",
    "for combined_images, lab_images in dataset_with_segment.take(1):\n",
    "    print(\"With Segments Batch Size:\", combined_images.shape[0])\n",
    "    print(\"Combined Images Shape:\", combined_images.shape)\n",
    "    print(\"LAB Images Shape:\", lab_images.shape)"
   ]
  },
  {
   "cell_type": "code",
   "execution_count": null,
   "id": "172392d4",
   "metadata": {},
   "outputs": [],
   "source": []
  }
 ],
 "metadata": {
  "kernelspec": {
   "display_name": "Python 3 (ipykernel)",
   "language": "python",
   "name": "python3"
  },
  "language_info": {
   "codemirror_mode": {
    "name": "ipython",
    "version": 3
   },
   "file_extension": ".py",
   "mimetype": "text/x-python",
   "name": "python",
   "nbconvert_exporter": "python",
   "pygments_lexer": "ipython3",
   "version": "3.11.4"
  }
 },
 "nbformat": 4,
 "nbformat_minor": 5
}
